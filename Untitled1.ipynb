{
 "metadata": {
  "name": ""
 },
 "nbformat": 3,
 "nbformat_minor": 0,
 "worksheets": [
  {
   "cells": [
    {
     "cell_type": "heading",
     "level": 2,
     "metadata": {},
     "source": [
      "K-means clustering"
     ]
    },
    {
     "cell_type": "code",
     "collapsed": false,
     "input": [
      "%pylab inline"
     ],
     "language": "python",
     "metadata": {},
     "outputs": [
      {
       "output_type": "stream",
       "stream": "stdout",
       "text": [
        "Populating the interactive namespace from numpy and matplotlib\n"
       ]
      }
     ],
     "prompt_number": 1
    },
    {
     "cell_type": "code",
     "collapsed": false,
     "input": [
      "data = loadtxt('data1.dat')\n",
      "print data"
     ],
     "language": "python",
     "metadata": {},
     "outputs": [
      {
       "output_type": "stream",
       "stream": "stdout",
       "text": [
        "[[  1.30728392  11.21391315]\n",
        " [ -0.27155639  11.54247028]\n",
        " [ -0.42386486  13.21317045]\n",
        " [  1.28722983  10.48764629]\n",
        " [ -0.53338259  10.04564085]\n",
        " [ -0.12585717  10.76452804]\n",
        " [  0.06736538  10.65611664]\n",
        " [ -0.39079316   8.10818124]\n",
        " [ -0.26153533  13.19127086]\n",
        " [  0.72687173  12.05783933]\n",
        " [ 10.14571555   1.18425234]\n",
        " [  9.21400569   0.32863743]\n",
        " [  8.68396009   2.73302796]\n",
        " [  9.77689368   0.21671706]\n",
        " [ 10.07836241   3.10693573]\n",
        " [ 10.86448153   0.5244432 ]\n",
        " [  8.84931024   0.96105481]\n",
        " [ 10.08831983   1.87448027]\n",
        " [  8.02780382   1.32943945]\n",
        " [  9.58663322   1.25171099]]\n"
       ]
      }
     ],
     "prompt_number": 3
    },
    {
     "cell_type": "code",
     "collapsed": false,
     "input": [
      "minx = min(data[:,0])\n",
      "maxx = max(data[:,0])\n",
      "miny = min(data[:,1])\n",
      "maxy = max(data[:,1])\n",
      "\n",
      "c1_x = random.uniform(minx, maxx,1)\n",
      "c1_y = random.uniform(miny, maxy,1)\n",
      "c2_x = random.uniform(minx, maxx,1)\n",
      "c2_y = random.uniform(miny, maxy,1)\n",
      "\n",
      "print c1_x, c1_y, c2_x, c2_y"
     ],
     "language": "python",
     "metadata": {},
     "outputs": [
      {
       "output_type": "stream",
       "stream": "stdout",
       "text": [
        "[ 5.69443244] [ 5.77806749] [ 1.01220561] [ 4.92557804]\n"
       ]
      }
     ],
     "prompt_number": 4
    },
    {
     "cell_type": "code",
     "collapsed": false,
     "input": [
      "scatter(c1_x,c1_y,c='red')\n",
      "scatter(c2_x,c2_y)"
     ],
     "language": "python",
     "metadata": {},
     "outputs": [
      {
       "metadata": {},
       "output_type": "pyout",
       "prompt_number": 5,
       "text": [
        "<matplotlib.collections.PathCollection at 0x3b87850>"
       ]
      },
      {
       "metadata": {},
       "output_type": "display_data",
       "png": "[encoded data removed]",
       "text": [
        "<matplotlib.figure.Figure at 0x3b87ed0>"
       ]
      }
     ],
     "prompt_number": 5
    },
    {
     "cell_type": "code",
     "collapsed": false,
     "input": [
      "forma = shape(data)\n",
      "x1 = zeros(forma[0])\n",
      "y1 = zeros(forma[0])\n",
      "x2 = zeros(forma[0])\n",
      "y2 = zeros(forma[0])\n",
      "distancia1 = zeros(forma[0])\n",
      "distancia2 = zeros(forma[0])\n",
      "grupo1 = empty((forma[0],forma[1]))\n",
      "grupo2 = empty((forma[0],forma[1]))\n",
      "\n",
      "for i in range(forma[0]):\n",
      "    x1[i] = data[i,0] - c1_x\n",
      "    y1[i] = data[i,1] - c1_y\n",
      "    x2[i] = data[i,0] - c2_x\n",
      "    y2[i] = data[i,1] - c2_y\n",
      "    \n",
      "    distancia1[i] = sqrt((x1[i]**2)+(y1[i]**2))\n",
      "    distancia2[i] = sqrt((x2[i]**2)+(y2[i]**2))\n",
      "\n",
      "\n",
      "    if(distancia1[i]<distancia2[i]):\n",
      "        grupo1[i,0]=data[i,0]\n",
      "        grupo1[i,1]=data[i,1]\n",
      "    else:\n",
      "        grupo2[i,0]=data[i,0]\n",
      "        grupo2[i,1]=data[i,1]\n",
      "\n",
      "        \n",
      "scatter(grupo1[:,0],grupo1[:,1],color='red')\n",
      "scatter(grupo2[:,0],grupo2[:,1])\n"
     ],
     "language": "python",
     "metadata": {},
     "outputs": [
      {
       "metadata": {},
       "output_type": "pyout",
       "prompt_number": 12,
       "text": [
        "<matplotlib.collections.PathCollection at 0x3b4a4d0>"
       ]
      },
      {
       "metadata": {},
       "output_type": "display_data",
       "png": "[encoded data removed]",
       "text": [
        "<matplotlib.figure.Figure at 0x3b4a490>"
       ]
      }
     ],
     "prompt_number": 12
    },
    {
     "cell_type": "code",
     "collapsed": false,
     "input": [
      "\n"
     ],
     "language": "python",
     "metadata": {},
     "outputs": [],
     "prompt_number": 34
    },
    {
     "cell_type": "code",
     "collapsed": false,
     "input": [],
     "language": "python",
     "metadata": {},
     "outputs": []
    }
   ],
   "metadata": {}
  }
 ]
}