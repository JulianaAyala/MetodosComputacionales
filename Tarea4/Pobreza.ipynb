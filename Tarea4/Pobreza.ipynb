{
 "metadata": {
  "name": ""
 },
 "nbformat": 3,
 "nbformat_minor": 0,
 "worksheets": [
  {
   "cells": [
    {
     "cell_type": "code",
     "collapsed": false,
     "input": [
      "%pylab inline\n",
      "import numpy.linalg as la\n",
      "import csv"
     ],
     "language": "python",
     "metadata": {},
     "outputs": [
      {
       "output_type": "stream",
       "stream": "stdout",
       "text": [
        "Populating the interactive namespace from numpy and matplotlib\n"
       ]
      }
     ],
     "prompt_number": 1
    },
    {
     "cell_type": "code",
     "collapsed": false,
     "input": [
      "#abro el archivo de pobreza, gracias al codigo de Maria Camila Remolina\n",
      "filas = 0\n",
      "columnas = 0\n",
      "\n",
      "with open('pobreza.csv', 'rb') as archivo:\n",
      "    lector = csv.reader(archivo)\n",
      "    i=0\n",
      "    for fila in lector:\n",
      "        if(i==0):\n",
      "            for columna in fila:\n",
      "                columnas+=1\n",
      "        filas+=1\n",
      "        i+=1\n",
      "        \n",
      "analfabetismo = []\n",
      "inasistencia = []\n",
      "dependencia = []\n",
      "agua = []\n",
      "resto = []"
     ],
     "language": "python",
     "metadata": {},
     "outputs": [],
     "prompt_number": 10
    },
    {
     "cell_type": "code",
     "collapsed": false,
     "input": [
      "with open('pobreza.csv', 'rb') as archivo:\n",
      "    lector = csv.reader(archivo)\n",
      "    i=0\n",
      "    for fila in lector:\n",
      "        if(i!=0):         \n",
      "            j=0\n",
      "            for columna in fila:\n",
      "                if(j==11):\n",
      "                    analfabetismo.append(int(columna))\n",
      "                elif(j==13):\n",
      "                    inasistencia.append(int(columna))\n",
      "                elif(j==22):\n",
      "                    dependencia.append(int(columna))\n",
      "                elif(j==29):\n",
      "                    agua.append(int(columna))\n",
      "                else:\n",
      "                    resto.append(columna)\n",
      "                j+=1\n",
      "        i+=1\n",
      "print analfabetismo"
     ],
     "language": "python",
     "metadata": {},
     "outputs": [
      {
       "output_type": "stream",
       "stream": "stdout",
       "text": [
        "[]\n"
       ]
      }
     ],
     "prompt_number": 15
    },
    {
     "cell_type": "code",
     "collapsed": false,
     "input": [
      "dept = filas-1\n",
      "pobreza = array(analfabetismo)\n",
      "anios = 24\n",
      "ciudades = filas-1\n",
      "valormedio = zeros(anios)\n",
      "datos = zeros(ciudades)\n",
      "matriz = zeros((anios, anios))\n",
      "tasa = zeros((ciudades,anios))\n",
      "print pobreza"
     ],
     "language": "python",
     "metadata": {},
     "outputs": [
      {
       "output_type": "stream",
       "stream": "stdout",
       "text": [
        "[]\n"
       ]
      }
     ],
     "prompt_number": 14
    },
    {
     "cell_type": "code",
     "collapsed": false,
     "input": [],
     "language": "python",
     "metadata": {},
     "outputs": []
    }
   ],
   "metadata": {}
  }
 ]
}