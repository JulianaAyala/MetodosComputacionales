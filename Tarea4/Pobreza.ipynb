{
 "metadata": {
  "name": ""
 },
 "nbformat": 3,
 "nbformat_minor": 0,
 "worksheets": [
  {
   "cells": [
    {
     "cell_type": "code",
     "collapsed": false,
     "input": [
      "%pylab inline\n",
      "import numpy.linalg as la\n",
      "import csv"
     ],
     "language": "python",
     "metadata": {},
     "outputs": [
      {
       "output_type": "stream",
       "stream": "stdout",
       "text": [
        "Populating the interactive namespace from numpy and matplotlib\n"
       ]
      }
     ],
     "prompt_number": 2
    },
    {
     "cell_type": "code",
     "collapsed": false,
     "input": [
      "#abro el archivo de pobreza, gracias al codigo de Maria Camila Remolina\n",
      "filas = 0\n",
      "columnas = 0\n",
      "\n",
      "with open('pobreza.csv', 'rb') as archivo:\n",
      "    lector = csv.reader(archivo)\n",
      "    i=0\n",
      "    for fila in lector:\n",
      "        if(i==0):\n",
      "            for columna in fila:\n",
      "                columnas+=1\n",
      "        filas+=1\n",
      "        i+=1\n",
      "        \n",
      "poblacion = []\n",
      "poblacionpobre = []\n",
      "indicencia = []\n",
      "codigodepartamento = []\n",
      "analfabetismo = []\n",
      "inasistencia = []\n",
      "dependencia = []\n",
      "agua = []\n",
      "\n",
      "with open('pobreza.csv', 'rb') as archivo:\n",
      "    lector = csv.reader(archivo)\n",
      "    i=0\n",
      "    for fila in lector:\n",
      "        if(i!=0):         \n",
      "            j=0\n",
      "            for columna in fila:\n",
      "                if(j==2):\n",
      "                    poblacion.append(int(columna))\n",
      "                elif(j==3):\n",
      "                    pobracionpobre.append(int(columna))\n",
      "                elif(j==4):\n",
      "                    incidencia.append(int(columna))\n",
      "                elif(j==5):\n",
      "                    codigodepartamento.append(int(columna))\n",
      "                elif(j==11):\n",
      "                    analfabetismo.append(int(columna))\n",
      "                elif(j==13):\n",
      "                    inasistencia.append(int(columna))\n",
      "                elif(j==22):\n",
      "                    dependencia.append(int(columna)\n",
      "                else(j==29):\n",
      "                    agua.append(int(columna))\n",
      "                j+=1\n",
      "        i+=1\n"
     ],
     "language": "python",
     "metadata": {},
     "outputs": [
      {
       "ename": "SyntaxError",
       "evalue": "invalid syntax (<ipython-input-6-14c07f54cfbd>, line 45)",
       "output_type": "pyerr",
       "traceback": [
        "\u001b[0;36m  File \u001b[0;32m\"<ipython-input-6-14c07f54cfbd>\"\u001b[0;36m, line \u001b[0;32m45\u001b[0m\n\u001b[0;31m    else(j==29):\u001b[0m\n\u001b[0m       ^\u001b[0m\n\u001b[0;31mSyntaxError\u001b[0m\u001b[0;31m:\u001b[0m invalid syntax\n"
       ]
      }
     ],
     "prompt_number": 6
    },
    {
     "cell_type": "code",
     "collapsed": false,
     "input": [
      "for i in range(forma[1]):\n",
      "    valormedio = mean(forma[:,i])"
     ],
     "language": "python",
     "metadata": {},
     "outputs": [
      {
       "ename": "NameError",
       "evalue": "name 'forma' is not defined",
       "output_type": "pyerr",
       "traceback": [
        "\u001b[0;31m---------------------------------------------------------------------------\u001b[0m\n\u001b[0;31mNameError\u001b[0m                                 Traceback (most recent call last)",
        "\u001b[0;32m<ipython-input-3-e2a019e08e03>\u001b[0m in \u001b[0;36m<module>\u001b[0;34m()\u001b[0m\n\u001b[0;32m----> 1\u001b[0;31m \u001b[0;32mfor\u001b[0m \u001b[0mi\u001b[0m \u001b[0;32min\u001b[0m \u001b[0mrange\u001b[0m\u001b[0;34m(\u001b[0m\u001b[0mforma\u001b[0m\u001b[0;34m[\u001b[0m\u001b[0;36m1\u001b[0m\u001b[0;34m]\u001b[0m\u001b[0;34m)\u001b[0m\u001b[0;34m:\u001b[0m\u001b[0;34m\u001b[0m\u001b[0m\n\u001b[0m\u001b[1;32m      2\u001b[0m     \u001b[0mvalormedio\u001b[0m \u001b[0;34m=\u001b[0m \u001b[0mmean\u001b[0m\u001b[0;34m(\u001b[0m\u001b[0mforma\u001b[0m\u001b[0;34m[\u001b[0m\u001b[0;34m:\u001b[0m\u001b[0;34m,\u001b[0m\u001b[0mi\u001b[0m\u001b[0;34m]\u001b[0m\u001b[0;34m)\u001b[0m\u001b[0;34m\u001b[0m\u001b[0m\n",
        "\u001b[0;31mNameError\u001b[0m: name 'forma' is not defined"
       ]
      }
     ],
     "prompt_number": 3
    },
    {
     "cell_type": "code",
     "collapsed": false,
     "input": [],
     "language": "python",
     "metadata": {},
     "outputs": []
    }
   ],
   "metadata": {}
  }
 ]
}