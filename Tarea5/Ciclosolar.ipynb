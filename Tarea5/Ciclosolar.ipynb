{
 "metadata": {
  "name": "Ciclosolar"
 },
 "nbformat": 3,
 "nbformat_minor": 0,
 "worksheets": [
  {
   "cells": [
    {
     "cell_type": "markdown",
     "metadata": {},
     "source": [
      "Tarea 5\n",
      "Punto 1\n",
      "Autores: Juliana Ayala\n",
      "         Henry Martinez*"
     ]
    },
    {
     "cell_type": "heading",
     "level": 1,
     "metadata": {},
     "source": [
      "Per\u00edodo del ciclo solar"
     ]
    },
    {
     "cell_type": "code",
     "collapsed": false,
     "input": [
      "%pylab inline\n",
      "from scipy import interpolate\n",
      "from scipy.fftpack import fft, fftfreq"
     ],
     "language": "python",
     "metadata": {},
     "outputs": [
      {
       "output_type": "stream",
       "stream": "stdout",
       "text": [
        "\n",
        "Welcome to pylab, a matplotlib-based Python environment [backend: module://IPython.kernel.zmq.pylab.backend_inline].\n",
        "For more information, type 'help(pylab)'.\n"
       ]
      }
     ],
     "prompt_number": 12
    },
    {
     "cell_type": "code",
     "collapsed": false,
     "input": [
      "#cargo el archivo y lo separo por columnas dependiendo de la informacion\n",
      "\n",
      "data=loadtxt(open('sparse_sample_monthrg.dat','r'))\n",
      "\n",
      "anio=data[:,0]\n",
      "mes=data[:,1]\n",
      "muestra=data[:,2]\n",
      "promedio=data[:,3]"
     ],
     "language": "python",
     "metadata": {},
     "outputs": [],
     "prompt_number": 2
    },
    {
     "cell_type": "code",
     "collapsed": false,
     "input": [
      "forma = shape(anio)[0]\n",
      "n_dat = forma - 1\n",
      "\n",
      "#saco los datos que no me sirven\n",
      "n_datn = 0\n",
      "for i in range(n_dat):\n",
      "    nuevo = promedio[i]\n",
      "    if(nuevo==-99):\n",
      "        n_datn = i"
     ],
     "language": "python",
     "metadata": {},
     "outputs": [],
     "prompt_number": 3
    },
    {
     "cell_type": "code",
     "collapsed": false,
     "input": [
      "#ahora hago variables que contengan los nuevos datos a usar\n",
      "\n",
      "anion = empty(0)\n",
      "mesn = empty(0)\n",
      "muestran = empty(0)\n",
      "promedion = empty(0)\n",
      "datos = n_datn + 1\n",
      "\n",
      "for i in range(datos,n_dat):\n",
      "    \n",
      "    anion = append(anion,anio[i])\n",
      "    mesn = append(mesn,mes[i])\n",
      "    muestran = append(muestran, muestra[i])\n",
      "    promedion = append(promedion,promedio[i])\n",
      "\n",
      "hola = shape(promedion)[0]\n",
      "datos = hola-1\n",
      "print datos"
     ],
     "language": "python",
     "metadata": {},
     "outputs": [
      {
       "output_type": "stream",
       "stream": "stdout",
       "text": [
        "244\n"
       ]
      }
     ],
     "prompt_number": 4
    },
    {
     "cell_type": "code",
     "collapsed": false,
     "input": [
      "continuo = empty(0)\n",
      "\n",
      "#pongo los datos continuos\n",
      "for i in range(datos+1):\n",
      "    coso = ((anion[i]*12) + mesn[i]) - ((anion[0]*12) + mesn[0])\n",
      "    continuo = append(continuo, coso)   "
     ],
     "language": "python",
     "metadata": {},
     "outputs": [],
     "prompt_number": 5
    },
    {
     "cell_type": "code",
     "collapsed": false,
     "input": [
      "#ahora hago interpolacion lineal\n",
      "\n",
      "a = continuo[datos]\n",
      "b = (int)(a) \n",
      "interpolacion = interpolate.interp1d(continuo,promedion,'linear')\n",
      "\n",
      "listainterpolada = empty(0)\n",
      "for i in range(b + 1):\n",
      "    listainterpolada = append(listainterpolada, interpolacion(i))\n",
      "\n",
      "plot(listainterpolada,'-')"
     ],
     "language": "python",
     "metadata": {},
     "outputs": [
      {
       "output_type": "pyout",
       "prompt_number": 6,
       "text": [
        "[<matplotlib.lines.Line2D at 0x2254e50>]"
       ]
      },
      {
       "output_type": "display_data",
       "png": "[encoded data removed]",
       "text": [
        "<matplotlib.figure.Figure at 0x254f390>"
       ]
      }
     ],
     "prompt_number": 6
    },
    {
     "cell_type": "code",
     "collapsed": false,
     "input": [
      "#ahora saco la transformada de Fourier a los datos\n",
      "dt = 1\n",
      "frecuencia = fftfreq(b + 1, dt)\n",
      "cambio = np.fft.fftshift(frecuencia)\n",
      "\n",
      "fourier = (fft(listainterpolada))/ b\n",
      "cambiof= np.fft.fftshift(fourier)"
     ],
     "language": "python",
     "metadata": {},
     "outputs": [],
     "prompt_number": 15
    },
    {
     "cell_type": "code",
     "collapsed": false,
     "input": [
      "#por \u00faltimo, encuentro el periodo de las machas solares"
     ],
     "language": "python",
     "metadata": {},
     "outputs": [],
     "prompt_number": 18
    },
    {
     "cell_type": "markdown",
     "metadata": {},
     "source": [
      "*para el lab: hecho por Juliana Ayala"
     ]
    }
   ],
   "metadata": {}
  }
 ]
}